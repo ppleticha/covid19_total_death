{
 "cells": [
  {
   "cell_type": "code",
   "execution_count": 1,
   "metadata": {},
   "outputs": [],
   "source": [
    "import numpy as np\n",
    "import pandas as pd\n",
    "import matplotlib.pyplot as plt\n",
    "import matplotlib as mpl\n",
    "plt.style.use('seaborn')\n",
    "mpl.rcParams['font.family'] = 'serif'\n",
    "%matplotlib inline"
   ]
  },
  {
   "cell_type": "markdown",
   "metadata": {},
   "source": [
    "This notebook shows how to construct the number of excess deaths (relative to a counterfactual 2020) from ISTAT data on total deaths. It then compares these excess deaths to the counterfactual including Covid-19 deaths.\n",
    "\n",
    "- The source for the ISTAT data is: https://www.istat.it/it/archivio/240401 $\\to$ \"Andamento dei decessi del 2020\" $\\to$ \"Dataset analitico con i decessi giornalieri\". \n",
    "\n",
    "- The source for the official Covid-19 deaths is https://github.com/pcm-dpc/COVID-19"
   ]
  },
  {
   "cell_type": "markdown",
   "metadata": {},
   "source": [
    "# 1) Processing the mortality data"
   ]
  },
  {
   "cell_type": "code",
   "execution_count": 2,
   "metadata": {},
   "outputs": [],
   "source": [
    "def convert_months(month):\n",
    "    \n",
    "    months = {}\n",
    "    months['Abr'] = '04'\n",
    "    months['Ago'] = '08'\n",
    "    months['Dez'] = '12'\n",
    "    months['Fev'] = '02'\n",
    "    months['Jan'] = '01'\n",
    "    months['Jul'] = '07'\n",
    "    months['Jun'] = '06'\n",
    "    months['Mai'] = '05'\n",
    "    months['Mar'] = '03'\n",
    "    months['Nov'] = '11'\n",
    "    months['Out'] = '10'\n",
    "    months['Set'] = '09'\n",
    "    \n",
    "    return months[month]"
   ]
  },
  {
   "cell_type": "code",
   "execution_count": 3,
   "metadata": {},
   "outputs": [],
   "source": [
    "df = pd.read_csv('./mortality_data/Dados_SICO_2020-04-04.csv',\n",
    "                 encoding = \"UTF-8\")\n",
    "\n",
    "df = df[['Data (mm-dd)'] + ['{}'.format(yr) for yr in range(2015,2021)]].reset_index(drop=True).copy(deep=True)\n",
    "\n",
    "df['aux'] = df['Data (mm-dd)'].str[:3]\n",
    "df['month'] = df.aux.apply(lambda x: convert_months(x))\n",
    "df['day'] = df['Data (mm-dd)'].str[-2:]\n",
    "df['monthday'] = pd.to_numeric(df.month + df.day)\n",
    "df['date'] = \"2020-\" + df['month'] + \"-\" + df['day']\n",
    "df['date']  =  pd.to_datetime(df['date'] , format='%Y%m%d', errors='ignore')\n",
    "\n",
    "df = df[['monthday'] + ['{}'.format(yr) for yr in range(2015,2021)] + ['date']]"
   ]
  },
  {
   "cell_type": "markdown",
   "metadata": {},
   "source": [
    "dropping all dates before first covid death (march 16, start on the 15th)"
   ]
  },
  {
   "cell_type": "code",
   "execution_count": 4,
   "metadata": {},
   "outputs": [],
   "source": [
    "first_day = 315\n",
    "df = df[df['monthday'] >= first_day].reset_index(drop=True).copy(deep=True)"
   ]
  },
  {
   "cell_type": "markdown",
   "metadata": {},
   "source": [
    "computing cumulative totals"
   ]
  },
  {
   "cell_type": "code",
   "execution_count": 5,
   "metadata": {},
   "outputs": [],
   "source": [
    "for i in range(2015, 2021):\n",
    "    df['cs_{}'.format(i)] = df['{}'.format(i)].cumsum()\n",
    "    del df['{}'.format(i)]"
   ]
  },
  {
   "cell_type": "markdown",
   "metadata": {},
   "source": [
    "computing the average of the cumulative totals across 2015-2019"
   ]
  },
  {
   "cell_type": "code",
   "execution_count": 6,
   "metadata": {},
   "outputs": [],
   "source": [
    "df['cs_avg_1519'] = df.iloc[:,1:6].mean(axis=1)\n",
    "df = df.drop(['cs_{}'.format(yr) for yr in range(2015,2020)], axis=1)"
   ]
  },
  {
   "cell_type": "markdown",
   "metadata": {},
   "source": [
    "computing daily growth rates 2015-2019"
   ]
  },
  {
   "cell_type": "code",
   "execution_count": 7,
   "metadata": {},
   "outputs": [],
   "source": [
    "df['daily_growth'] = df.cs_avg_1519 / df.cs_avg_1519 .shift(1)"
   ]
  },
  {
   "cell_type": "markdown",
   "metadata": {},
   "source": [
    "extrapolating forward"
   ]
  },
  {
   "cell_type": "code",
   "execution_count": 8,
   "metadata": {},
   "outputs": [],
   "source": [
    "df['counterfactual'] = 0\n",
    "df.loc[0,'counterfactual'] = df.loc[df.monthday==first_day,'cs_2020'].values[0]"
   ]
  },
  {
   "cell_type": "code",
   "execution_count": 9,
   "metadata": {},
   "outputs": [],
   "source": [
    "for i in range(1, df.shape[0]):\n",
    "    df.loc[i,'counterfactual'] = df.loc[i-1,'counterfactual'] * df.loc[i,'daily_growth']"
   ]
  },
  {
   "cell_type": "code",
   "execution_count": 10,
   "metadata": {},
   "outputs": [],
   "source": [
    "df = df.drop(['cs_avg_1519', 'daily_growth'], axis=1)"
   ]
  },
  {
   "cell_type": "markdown",
   "metadata": {},
   "source": [
    "creating a date column"
   ]
  },
  {
   "cell_type": "code",
   "execution_count": 11,
   "metadata": {},
   "outputs": [],
   "source": [
    "df = df[~pd.isnull(df.cs_2020)]"
   ]
  },
  {
   "cell_type": "markdown",
   "metadata": {},
   "source": [
    "# 2) Processing the covid data"
   ]
  },
  {
   "cell_type": "code",
   "execution_count": 12,
   "metadata": {},
   "outputs": [],
   "source": [
    "official = pd.read_csv('./COVID19_data/data.csv')[['data', 'obitos']]\n",
    "\n",
    "# move date one day backwards, as the report is from the previous day\n",
    "official['data'] = official.data.shift(1)\n",
    "\n",
    "official[\"month\"] = official.data.str[3:5]\n",
    "official[\"day\"] = official.data.str[0:2]\n",
    "official[\"monthday\"] = pd.to_numeric(official.month + official.day)\n",
    "\n",
    "official = official.rename(columns={\"data\": \"date\"})\n",
    "\n",
    "official = official[official['monthday'] >= first_day]\n",
    "official = official.reset_index(drop=True).copy(deep=True)\n",
    "\n",
    "del official['date']"
   ]
  },
  {
   "cell_type": "markdown",
   "metadata": {},
   "source": [
    "# 3) Merging and plotting"
   ]
  },
  {
   "cell_type": "code",
   "execution_count": 13,
   "metadata": {},
   "outputs": [],
   "source": [
    "df_merge = pd.merge(df, official, on=['monthday'], how='right')\n",
    "df_merge = df_merge.fillna(0)\n",
    "df_merge['counterfactual_2020_covid'] = df_merge.counterfactual + df_merge.obitos"
   ]
  },
  {
   "cell_type": "code",
   "execution_count": 14,
   "metadata": {},
   "outputs": [],
   "source": [
    "df_merge.index=df_merge.date\n",
    "df_merge = df_merge[['cs_2020', 'counterfactual', 'counterfactual_2020_covid']]"
   ]
  },
  {
   "cell_type": "code",
   "execution_count": 15,
   "metadata": {},
   "outputs": [
    {
     "data": {
      "image/png": "[encoded data removed]",
      "text/plain": [
       "<Figure size 720x432 with 1 Axes>"
      ]
     },
     "metadata": {
      "needs_background": "light"
     },
     "output_type": "display_data"
    }
   ],
   "source": [
    "df_merge.plot(figsize=(10,6))\n",
    "plt.show()"
   ]
  },
  {
   "cell_type": "code",
   "execution_count": 16,
   "metadata": {},
   "outputs": [
    {
     "name": "stdout",
     "output_type": "stream",
     "text": [
      "Official covid-deaths: 266.0 = red-green\n",
      "Excess deaths: 1141.0 = blue-green\n",
      "Unexplained excess deaths: 875.0 = blue-red\n"
     ]
    }
   ],
   "source": [
    "print('Official covid-deaths: {} = red-green'.format(round(df_merge.iloc[-1, 2] - df_merge.iloc[-1, 1])))\n",
    "print('Excess deaths: {} = blue-green'.format(round(df_merge.iloc[-1, 0] - df_merge.iloc[-1, 1])))\n",
    "print('Unexplained excess deaths: {} = blue-red'.format(round(df_merge.iloc[-1, 0] - df_merge.iloc[-1, 2])))"
   ]
  }
 ],
 "metadata": {
  "kernelspec": {
   "display_name": "Python 3",
   "language": "python",
   "name": "python3"
  },
  "language_info": {
   "codemirror_mode": {
    "name": "ipython",
    "version": 3
   },
   "file_extension": ".py",
   "mimetype": "text/x-python",
   "name": "python",
   "nbconvert_exporter": "python",
   "pygments_lexer": "ipython3",
   "version": "3.8.2"
  }
 },
 "nbformat": 4,
 "nbformat_minor": 4
}
