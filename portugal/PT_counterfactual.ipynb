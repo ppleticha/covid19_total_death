{
 "cells": [
  {
   "cell_type": "code",
   "execution_count": 1,
   "metadata": {},
   "outputs": [],
   "source": [
    "import numpy as np\n",
    "import pandas as pd\n",
    "import matplotlib.pyplot as plt\n",
    "import matplotlib as mpl\n",
    "plt.style.use('seaborn')\n",
    "mpl.rcParams['font.family'] = 'serif'\n",
    "%matplotlib inline"
   ]
  },
  {
   "cell_type": "markdown",
   "metadata": {},
   "source": [
    "This notebook shows how to construct the number of excess deaths (relative to a counterfactual 2020) from ISTAT data on total deaths. It then compares these excess deaths to the counterfactual including Covid-19 deaths.\n",
    "\n",
    "- The source for the ISTAT data is: https://www.istat.it/it/archivio/240401 $\\to$ \"Andamento dei decessi del 2020\" $\\to$ \"Dataset analitico con i decessi giornalieri\". \n",
    "\n",
    "- The source for the official Covid-19 deaths is https://github.com/pcm-dpc/COVID-19"
   ]
  },
  {
   "cell_type": "markdown",
   "metadata": {},
   "source": [
    "# 1) Processing the mortality data"
   ]
  },
  {
   "cell_type": "code",
   "execution_count": 2,
   "metadata": {},
   "outputs": [],
   "source": [
    "def convert_months(month):\n",
    "    \n",
    "    months = {}\n",
    "    months['Abr'] = '04'\n",
    "    months['Ago'] = '08'\n",
    "    months['Dez'] = '12'\n",
    "    months['Fev'] = '02'\n",
    "    months['Jan'] = '01'\n",
    "    months['Jul'] = '07'\n",
    "    months['Jun'] = '06'\n",
    "    months['Mai'] = '05'\n",
    "    months['Mar'] = '03'\n",
    "    months['Nov'] = '11'\n",
    "    months['Out'] = '10'\n",
    "    months['Set'] = '09'\n",
    "    \n",
    "    return months[month]"
   ]
  },
  {
   "cell_type": "code",
   "execution_count": 3,
   "metadata": {},
   "outputs": [],
   "source": [
    "df = pd.read_csv('./mortality_data/Dados_SICO_2020-04-04.csv',\n",
    "                 encoding = \"UTF-8\")\n",
    "\n",
    "df = df[['Data (mm-dd)'] + ['{}'.format(yr) for yr in range(2015,2021)]].reset_index(drop=True).copy(deep=True)\n",
    "\n",
    "df['aux'] = df['Data (mm-dd)'].str[:3]\n",
    "df['month'] = df.aux.apply(lambda x: convert_months(x))\n",
    "df['day'] = df['Data (mm-dd)'].str[-2:]\n",
    "df['monthday'] = pd.to_numeric(df.month + df.day)\n",
    "df['date'] = \"2020-\" + df['month'] + \"-\" + df['day']\n",
    "df['date']  =  pd.to_datetime(df['date'] , format='%Y%m%d', errors='ignore')\n",
    "\n",
    "df = df[['monthday'] + ['{}'.format(yr) for yr in range(2015,2021)] + ['date']]"
   ]
  },
  {
   "cell_type": "markdown",
   "metadata": {},
   "source": [
    "dropping all dates before first covid death (march 16, start on the 15th)"
   ]
  },
  {
   "cell_type": "code",
   "execution_count": 4,
   "metadata": {},
   "outputs": [],
   "source": [
    "first_day = 315\n",
    "df = df[df['monthday'] >= first_day].reset_index(drop=True).copy(deep=True)"
   ]
  },
  {
   "cell_type": "markdown",
   "metadata": {},
   "source": [
    "computing cumulative totals"
   ]
  },
  {
   "cell_type": "code",
   "execution_count": 5,
   "metadata": {},
   "outputs": [],
   "source": [
    "for i in range(2015, 2021):\n",
    "    df['cs_{}'.format(i)] = df['{}'.format(i)].cumsum()\n",
    "    del df['{}'.format(i)]"
   ]
  },
  {
   "cell_type": "code",
   "execution_count": 6,
   "metadata": {},
   "outputs": [
    {
     "data": {
      "text/html": [
       "<div>\n",
       "<style scoped>\n",
       "    .dataframe tbody tr th:only-of-type {\n",
       "        vertical-align: middle;\n",
       "    }\n",
       "\n",
       "    .dataframe tbody tr th {\n",
       "        vertical-align: top;\n",
       "    }\n",
       "\n",
       "    .dataframe thead th {\n",
       "        text-align: right;\n",
       "    }\n",
       "</style>\n",
       "<table border=\"1\" class=\"dataframe\">\n",
       "  <thead>\n",
       "    <tr style=\"text-align: right;\">\n",
       "      <th></th>\n",
       "      <th>monthday</th>\n",
       "      <th>date</th>\n",
       "      <th>cs_2015</th>\n",
       "      <th>cs_2016</th>\n",
       "      <th>cs_2017</th>\n",
       "      <th>cs_2018</th>\n",
       "      <th>cs_2019</th>\n",
       "      <th>cs_2020</th>\n",
       "    </tr>\n",
       "  </thead>\n",
       "  <tbody>\n",
       "    <tr>\n",
       "      <th>0</th>\n",
       "      <td>315</td>\n",
       "      <td>2020-03-15</td>\n",
       "      <td>307.0</td>\n",
       "      <td>337</td>\n",
       "      <td>307.0</td>\n",
       "      <td>344.0</td>\n",
       "      <td>272.0</td>\n",
       "      <td>292.0</td>\n",
       "    </tr>\n",
       "    <tr>\n",
       "      <th>1</th>\n",
       "      <td>316</td>\n",
       "      <td>2020-03-16</td>\n",
       "      <td>610.0</td>\n",
       "      <td>625</td>\n",
       "      <td>650.0</td>\n",
       "      <td>662.0</td>\n",
       "      <td>612.0</td>\n",
       "      <td>628.0</td>\n",
       "    </tr>\n",
       "    <tr>\n",
       "      <th>2</th>\n",
       "      <td>317</td>\n",
       "      <td>2020-03-17</td>\n",
       "      <td>921.0</td>\n",
       "      <td>924</td>\n",
       "      <td>973.0</td>\n",
       "      <td>990.0</td>\n",
       "      <td>929.0</td>\n",
       "      <td>962.0</td>\n",
       "    </tr>\n",
       "    <tr>\n",
       "      <th>3</th>\n",
       "      <td>318</td>\n",
       "      <td>2020-03-18</td>\n",
       "      <td>1238.0</td>\n",
       "      <td>1259</td>\n",
       "      <td>1284.0</td>\n",
       "      <td>1325.0</td>\n",
       "      <td>1225.0</td>\n",
       "      <td>1275.0</td>\n",
       "    </tr>\n",
       "    <tr>\n",
       "      <th>4</th>\n",
       "      <td>319</td>\n",
       "      <td>2020-03-19</td>\n",
       "      <td>1587.0</td>\n",
       "      <td>1619</td>\n",
       "      <td>1581.0</td>\n",
       "      <td>1622.0</td>\n",
       "      <td>1547.0</td>\n",
       "      <td>1630.0</td>\n",
       "    </tr>\n",
       "    <tr>\n",
       "      <th>...</th>\n",
       "      <td>...</td>\n",
       "      <td>...</td>\n",
       "      <td>...</td>\n",
       "      <td>...</td>\n",
       "      <td>...</td>\n",
       "      <td>...</td>\n",
       "      <td>...</td>\n",
       "      <td>...</td>\n",
       "    </tr>\n",
       "    <tr>\n",
       "      <th>287</th>\n",
       "      <td>1227</td>\n",
       "      <td>2020-12-27</td>\n",
       "      <td>77950.0</td>\n",
       "      <td>84237</td>\n",
       "      <td>81223.0</td>\n",
       "      <td>83864.0</td>\n",
       "      <td>82735.0</td>\n",
       "      <td>NaN</td>\n",
       "    </tr>\n",
       "    <tr>\n",
       "      <th>288</th>\n",
       "      <td>1228</td>\n",
       "      <td>2020-12-28</td>\n",
       "      <td>78305.0</td>\n",
       "      <td>84676</td>\n",
       "      <td>81644.0</td>\n",
       "      <td>84202.0</td>\n",
       "      <td>83053.0</td>\n",
       "      <td>NaN</td>\n",
       "    </tr>\n",
       "    <tr>\n",
       "      <th>289</th>\n",
       "      <td>1229</td>\n",
       "      <td>2020-12-29</td>\n",
       "      <td>78611.0</td>\n",
       "      <td>85130</td>\n",
       "      <td>82033.0</td>\n",
       "      <td>84549.0</td>\n",
       "      <td>83406.0</td>\n",
       "      <td>NaN</td>\n",
       "    </tr>\n",
       "    <tr>\n",
       "      <th>290</th>\n",
       "      <td>1230</td>\n",
       "      <td>2020-12-30</td>\n",
       "      <td>78938.0</td>\n",
       "      <td>85594</td>\n",
       "      <td>82385.0</td>\n",
       "      <td>84891.0</td>\n",
       "      <td>83744.0</td>\n",
       "      <td>NaN</td>\n",
       "    </tr>\n",
       "    <tr>\n",
       "      <th>291</th>\n",
       "      <td>1231</td>\n",
       "      <td>2020-12-31</td>\n",
       "      <td>79261.0</td>\n",
       "      <td>86064</td>\n",
       "      <td>82775.0</td>\n",
       "      <td>85248.0</td>\n",
       "      <td>84089.0</td>\n",
       "      <td>NaN</td>\n",
       "    </tr>\n",
       "  </tbody>\n",
       "</table>\n",
       "<p>292 rows × 8 columns</p>\n",
       "</div>"
      ],
      "text/plain": [
       "     monthday        date  cs_2015  cs_2016  cs_2017  cs_2018  cs_2019  \\\n",
       "0         315  2020-03-15    307.0      337    307.0    344.0    272.0   \n",
       "1         316  2020-03-16    610.0      625    650.0    662.0    612.0   \n",
       "2         317  2020-03-17    921.0      924    973.0    990.0    929.0   \n",
       "3         318  2020-03-18   1238.0     1259   1284.0   1325.0   1225.0   \n",
       "4         319  2020-03-19   1587.0     1619   1581.0   1622.0   1547.0   \n",
       "..        ...         ...      ...      ...      ...      ...      ...   \n",
       "287      1227  2020-12-27  77950.0    84237  81223.0  83864.0  82735.0   \n",
       "288      1228  2020-12-28  78305.0    84676  81644.0  84202.0  83053.0   \n",
       "289      1229  2020-12-29  78611.0    85130  82033.0  84549.0  83406.0   \n",
       "290      1230  2020-12-30  78938.0    85594  82385.0  84891.0  83744.0   \n",
       "291      1231  2020-12-31  79261.0    86064  82775.0  85248.0  84089.0   \n",
       "\n",
       "     cs_2020  \n",
       "0      292.0  \n",
       "1      628.0  \n",
       "2      962.0  \n",
       "3     1275.0  \n",
       "4     1630.0  \n",
       "..       ...  \n",
       "287      NaN  \n",
       "288      NaN  \n",
       "289      NaN  \n",
       "290      NaN  \n",
       "291      NaN  \n",
       "\n",
       "[292 rows x 8 columns]"
      ]
     },
     "execution_count": 6,
     "metadata": {},
     "output_type": "execute_result"
    }
   ],
   "source": [
    "df"
   ]
  },
  {
   "cell_type": "markdown",
   "metadata": {},
   "source": [
    "computing the average of the cumulative totals across 2015-2019"
   ]
  },
  {
   "cell_type": "code",
   "execution_count": 7,
   "metadata": {},
   "outputs": [],
   "source": [
    "df['cs_avg_1519'] = df.loc[:,['cs_{}'.format(yr) for yr in range(2015,2020)]].mean(axis=1)\n",
    "df = df.drop(['cs_{}'.format(yr) for yr in range(2015,2020)], axis=1)"
   ]
  },
  {
   "cell_type": "markdown",
   "metadata": {},
   "source": [
    "computing daily growth rates 2015-2019"
   ]
  },
  {
   "cell_type": "code",
   "execution_count": 8,
   "metadata": {},
   "outputs": [],
   "source": [
    "df['daily_growth'] = df.cs_avg_1519 / df.cs_avg_1519 .shift(1)"
   ]
  },
  {
   "cell_type": "markdown",
   "metadata": {},
   "source": [
    "extrapolating forward"
   ]
  },
  {
   "cell_type": "code",
   "execution_count": 9,
   "metadata": {},
   "outputs": [],
   "source": [
    "df['counterfactual'] = 0\n",
    "df.loc[0,'counterfactual'] = df.loc[df.monthday==first_day,'cs_2020'].values[0]"
   ]
  },
  {
   "cell_type": "code",
   "execution_count": 10,
   "metadata": {},
   "outputs": [],
   "source": [
    "for i in range(1, df.shape[0]):\n",
    "    df.loc[i,'counterfactual'] = df.loc[i-1,'counterfactual'] * df.loc[i,'daily_growth']"
   ]
  },
  {
   "cell_type": "code",
   "execution_count": 11,
   "metadata": {},
   "outputs": [],
   "source": [
    "df = df.drop(['cs_avg_1519', 'daily_growth'], axis=1)"
   ]
  },
  {
   "cell_type": "markdown",
   "metadata": {},
   "source": [
    "creating a date column"
   ]
  },
  {
   "cell_type": "code",
   "execution_count": 12,
   "metadata": {},
   "outputs": [],
   "source": [
    "df = df[~pd.isnull(df.cs_2020)]"
   ]
  },
  {
   "cell_type": "markdown",
   "metadata": {},
   "source": [
    "# 2) Processing the covid data"
   ]
  },
  {
   "cell_type": "code",
   "execution_count": 13,
   "metadata": {},
   "outputs": [],
   "source": [
    "official = pd.read_csv('./COVID19_data/data.csv')[['data', 'obitos']]\n",
    "\n",
    "# move date one day backwards, as the report is from the previous day\n",
    "official['data'] = official.data.shift(1)\n",
    "\n",
    "official[\"month\"] = official.data.str[3:5]\n",
    "official[\"day\"] = official.data.str[0:2]\n",
    "official[\"monthday\"] = pd.to_numeric(official.month + official.day)\n",
    "\n",
    "official = official.rename(columns={\"data\": \"date\"})\n",
    "\n",
    "official = official[official['monthday'] >= first_day]\n",
    "official = official.reset_index(drop=True).copy(deep=True)\n",
    "\n",
    "del official['date']"
   ]
  },
  {
   "cell_type": "markdown",
   "metadata": {},
   "source": [
    "# 3) Merging and plotting"
   ]
  },
  {
   "cell_type": "code",
   "execution_count": 14,
   "metadata": {},
   "outputs": [],
   "source": [
    "df_merge = pd.merge(df, official, on=['monthday'], how='right')\n",
    "df_merge = df_merge.fillna(0)\n",
    "df_merge['counterfactual_2020_covid'] = df_merge.counterfactual + df_merge.obitos"
   ]
  },
  {
   "cell_type": "code",
   "execution_count": 15,
   "metadata": {},
   "outputs": [],
   "source": [
    "df_merge.index=df_merge.date\n",
    "df_merge = df_merge[['cs_2020', 'counterfactual', 'counterfactual_2020_covid']]"
   ]
  },
  {
   "cell_type": "code",
   "execution_count": 16,
   "metadata": {},
   "outputs": [
    {
     "data": {
      "image/png": "[encoded data removed]",
      "text/plain": [
       "<Figure size 720x432 with 1 Axes>"
      ]
     },
     "metadata": {
      "needs_background": "light"
     },
     "output_type": "display_data"
    }
   ],
   "source": [
    "df_merge.plot(figsize=(10,6))\n",
    "plt.show()"
   ]
  },
  {
   "cell_type": "code",
   "execution_count": 17,
   "metadata": {},
   "outputs": [
    {
     "name": "stdout",
     "output_type": "stream",
     "text": [
      "Official covid-deaths: 266.0 = red-green\n",
      "Excess deaths: 984.0 = blue-green\n",
      "Unexplained excess deaths: 718.0 = blue-red\n"
     ]
    }
   ],
   "source": [
    "print('Official covid-deaths: {} = red-green'.format(round(df_merge.iloc[-1, 2] - df_merge.iloc[-1, 1])))\n",
    "print('Excess deaths: {} = blue-green'.format(round(df_merge.iloc[-1, 0] - df_merge.iloc[-1, 1])))\n",
    "print('Unexplained excess deaths: {} = blue-red'.format(round(df_merge.iloc[-1, 0] - df_merge.iloc[-1, 2])))"
   ]
  }
 ],
 "metadata": {
  "kernelspec": {
   "display_name": "Python 3",
   "language": "python",
   "name": "python3"
  },
  "language_info": {
   "codemirror_mode": {
    "name": "ipython",
    "version": 3
   },
   "file_extension": ".py",
   "mimetype": "text/x-python",
   "name": "python",
   "nbconvert_exporter": "python",
   "pygments_lexer": "ipython3",
   "version": "3.6.9"
  }
 },
 "nbformat": 4,
 "nbformat_minor": 4
}
