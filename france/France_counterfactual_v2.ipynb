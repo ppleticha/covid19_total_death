{
 "cells": [
  {
   "cell_type": "code",
   "execution_count": 1,
   "metadata": {},
   "outputs": [],
   "source": [
    "import numpy as np\n",
    "import pandas as pd\n",
    "import matplotlib.pyplot as plt\n",
    "import matplotlib as mpl\n",
    "plt.style.use('seaborn')\n",
    "mpl.rcParams['font.family'] = 'serif'\n",
    "%matplotlib inline"
   ]
  },
  {
   "cell_type": "markdown",
   "metadata": {},
   "source": [
    "This notebook shows how to construct the number of excess deaths (relative to a counterfactual 2020) from INSEE data on total deaths. It then compares these excess deaths to the counterfactual including Covid-19 deaths.\n",
    "\n",
    "- The source for the INSEE data on total deaths is https://www.insee.fr/fr/information/4470857 for 2020, 2019 and 2018. For years up tp 2018, data are here: https://www.insee.fr/fr/statistiques/4204054?sommaire=4204068#consulter-sommaire $\\to$ \"T79JDEC – Répartition quotidienne des décès (Séries depuis 1968 pour la France métropolitaine, 1998 pour la France entière)\"\n",
    "\n",
    "- The source for the official Covid-19 deaths is https://dashboard.covid19.data.gouv.fr/\n",
    "\n",
    "**NOTE** The first version of the analysis for France (in the same directory) had only used data for 2018, 2019, 2020. Here we are using data since 2015. Note that the data on total deaths for 2020 excludes the Departement of Bouches-du-Rhône, which contains the city of Marseilles. "
   ]
  },
  {
   "cell_type": "markdown",
   "metadata": {},
   "source": [
    "# 1) Processing the INSEE data"
   ]
  },
  {
   "cell_type": "markdown",
   "metadata": {},
   "source": [
    "## 1.1) Up to 2018"
   ]
  },
  {
   "cell_type": "code",
   "execution_count": 2,
   "metadata": {},
   "outputs": [],
   "source": [
    "def convert_months(month):\n",
    "    \n",
    "    months = {}\n",
    "    months['Août'] = '08'\n",
    "    months['Avril'] = '04'\n",
    "    months['Décembre'] = '12'\n",
    "    months['Février'] = '02'\n",
    "    months['Janvier'] = '01'\n",
    "    months['Juillet'] = '07'\n",
    "    months['Juin'] = '06'\n",
    "    months['Mai'] = '05'\n",
    "    months['Mars'] = '03'\n",
    "    months['Novembre'] = '11'\n",
    "    months['Octobre'] = '10'\n",
    "    months['Septembre'] = '09'\n",
    "    \n",
    "    return months[month]"
   ]
  },
  {
   "cell_type": "code",
   "execution_count": 3,
   "metadata": {},
   "outputs": [],
   "source": [
    "def process_sheet(sheet_name):\n",
    "    \n",
    "    df = pd.read_excel('./total_deaths/T79JDEC.xls', sheet_name=sheet_name, skiprows=3)\n",
    "    df = df.iloc[1:-1,:-1].reset_index(drop=True).copy(deep=True)\n",
    "    df = df.replace('so', np.nan)\n",
    "    df.columns = ['ANNEE'] + list(df.columns[1:])\n",
    "    df['ANNEE'] = df['ANNEE'].fillna(method='ffill')\n",
    "    df.index = [df.ANNEE, df.JOUR]\n",
    "    df = df.drop(['ANNEE', 'JOUR'], axis=1)\n",
    "    df = pd.DataFrame(df.stack())\n",
    "    df.reset_index(inplace=True)\n",
    "    df.columns = ['annee', 'mois', 'jour', 'deces']\n",
    "    df.index = [df.mois, df.jour, df.annee]\n",
    "    df = df.drop(['mois', 'jour', 'annee'], axis=1)\n",
    "    df = df.unstack()\n",
    "    df.reset_index(inplace=True)\n",
    "    df.columns = df.columns.droplevel()\n",
    "    df.columns = ['mois', 'day'] + list(df.columns[2:])\n",
    "    df['month'] = df.mois.apply(lambda x: convert_months(x))\n",
    "    del df['mois']\n",
    "    df = df.iloc[:,[-1, 0] + list(range(1,df.shape[1]-1))]\n",
    "    df = df.sort_values(by=['month', 'day']).reset_index(drop=True).copy(deep=True)\n",
    "    df = df[['month', 'day'] + ['{}'.format(yr) for yr in range(2015, 2019)]]\n",
    "    df = df[df.month=='03'].reset_index(drop=True)\n",
    "    for yr in range(2015, 2019):\n",
    "        df['{}'.format(yr)] = df['{}'.format(yr)].cumsum()\n",
    "    \n",
    "    return df    "
   ]
  },
  {
   "cell_type": "markdown",
   "metadata": {},
   "source": [
    "\"FE\" = France Entiere. "
   ]
  },
  {
   "cell_type": "code",
   "execution_count": 4,
   "metadata": {},
   "outputs": [],
   "source": [
    "fe = process_sheet('FE')\n",
    "fe.columns = ['month', 'day'] + ['{}'.format(yr) for yr in range(2015, 2019)]"
   ]
  },
  {
   "cell_type": "markdown",
   "metadata": {},
   "source": [
    "## 1.2) 2018-2020 excluding Bouche du Rhone"
   ]
  },
  {
   "cell_type": "code",
   "execution_count": 5,
   "metadata": {},
   "outputs": [],
   "source": [
    "df = pd.read_csv('./total_deaths/total_deaths_france.csv')\n",
    "df['day'] = np.arange(1,32).astype('str')\n",
    "df['day'] = ('0' + df['day']).str[-2:]\n",
    "df['month'] = '03'\n",
    "del df['date']\n",
    "df = df[['month', 'day', '2019', '2020']]\n",
    "df = pd.merge(fe, df,  on=['month', 'day'], how='outer')"
   ]
  },
  {
   "cell_type": "code",
   "execution_count": 6,
   "metadata": {},
   "outputs": [],
   "source": [
    "df = df[~pd.isnull(df['2020'])].reset_index(drop=True).copy(deep=True)"
   ]
  },
  {
   "cell_type": "markdown",
   "metadata": {},
   "source": [
    "computing the average of the cumulative totals across 2015-2019"
   ]
  },
  {
   "cell_type": "code",
   "execution_count": 7,
   "metadata": {},
   "outputs": [],
   "source": [
    "df['cs_1519'] = df.loc[:,['{}'.format(yr) for yr in range(2015,2020)]].mean(axis=1)\n",
    "df = df[['month', 'day', '2020', 'cs_1519']].copy(deep=True)"
   ]
  },
  {
   "cell_type": "markdown",
   "metadata": {},
   "source": [
    "computing daily growth rates 2018-2019"
   ]
  },
  {
   "cell_type": "code",
   "execution_count": 8,
   "metadata": {},
   "outputs": [],
   "source": [
    "df['daily_growth'] = df.cs_1519 / df.cs_1519.shift(1)"
   ]
  },
  {
   "cell_type": "markdown",
   "metadata": {},
   "source": [
    "extrapolating forward"
   ]
  },
  {
   "cell_type": "code",
   "execution_count": 9,
   "metadata": {},
   "outputs": [],
   "source": [
    "df['counterfactual_2020'] = 0\n",
    "df.loc[0,'counterfactual_2020'] = df.loc[df.day=='01', '2020'].values[0]"
   ]
  },
  {
   "cell_type": "code",
   "execution_count": 10,
   "metadata": {},
   "outputs": [],
   "source": [
    "for i in range(1, df.shape[0]):\n",
    "    df.loc[i,'counterfactual_2020'] = df.loc[i-1,'counterfactual_2020'] * df.loc[i,'daily_growth']\n",
    "df = df.drop(['cs_1519', 'daily_growth'], axis=1)"
   ]
  },
  {
   "cell_type": "markdown",
   "metadata": {},
   "source": [
    "creating a date column"
   ]
  },
  {
   "cell_type": "code",
   "execution_count": 11,
   "metadata": {},
   "outputs": [],
   "source": [
    "df['date'] = '2020-' + df.month + '-' + df.day\n",
    "df['date']  =  pd.to_datetime(df['date'] , format='%Y%m%d', errors='ignore')\n",
    "df = df[['date', '2020', 'counterfactual_2020']].reset_index(drop=True).copy(deep=True)"
   ]
  },
  {
   "cell_type": "markdown",
   "metadata": {},
   "source": [
    "# 2) Processing the official covid data from Sante Publique France"
   ]
  },
  {
   "cell_type": "code",
   "execution_count": 12,
   "metadata": {},
   "outputs": [],
   "source": [
    "official = pd.read_csv('./COVID_deaths/covid_deaths_france.csv')"
   ]
  },
  {
   "cell_type": "code",
   "execution_count": 13,
   "metadata": {},
   "outputs": [],
   "source": [
    "official['date'] = pd.to_datetime(official['date'] , format='%&%m%d', errors='ignore')\n",
    "official['covid_19'] = official.hopital + official.EHPD_EMS\n",
    "official = official[['covid_19', 'date']]"
   ]
  },
  {
   "cell_type": "markdown",
   "metadata": {},
   "source": [
    "# 3) Merging and plotting"
   ]
  },
  {
   "cell_type": "code",
   "execution_count": 14,
   "metadata": {},
   "outputs": [
    {
     "data": {
      "text/html": [
       "<div>\n",
       "<style scoped>\n",
       "    .dataframe tbody tr th:only-of-type {\n",
       "        vertical-align: middle;\n",
       "    }\n",
       "\n",
       "    .dataframe tbody tr th {\n",
       "        vertical-align: top;\n",
       "    }\n",
       "\n",
       "    .dataframe thead th {\n",
       "        text-align: right;\n",
       "    }\n",
       "</style>\n",
       "<table border=\"1\" class=\"dataframe\">\n",
       "  <thead>\n",
       "    <tr style=\"text-align: right;\">\n",
       "      <th></th>\n",
       "      <th>date</th>\n",
       "      <th>2020</th>\n",
       "      <th>counterfactual_2020</th>\n",
       "      <th>counterfactual_2020_covid</th>\n",
       "    </tr>\n",
       "  </thead>\n",
       "  <tbody>\n",
       "    <tr>\n",
       "      <th>0</th>\n",
       "      <td>2020-03-01</td>\n",
       "      <td>1695.0</td>\n",
       "      <td>1695.000000</td>\n",
       "      <td>1695.000000</td>\n",
       "    </tr>\n",
       "    <tr>\n",
       "      <th>1</th>\n",
       "      <td>2020-03-02</td>\n",
       "      <td>3413.0</td>\n",
       "      <td>3415.648744</td>\n",
       "      <td>3418.648744</td>\n",
       "    </tr>\n",
       "    <tr>\n",
       "      <th>2</th>\n",
       "      <td>2020-03-03</td>\n",
       "      <td>5101.0</td>\n",
       "      <td>5113.741146</td>\n",
       "      <td>5117.741146</td>\n",
       "    </tr>\n",
       "    <tr>\n",
       "      <th>3</th>\n",
       "      <td>2020-03-04</td>\n",
       "      <td>6801.0</td>\n",
       "      <td>6794.734385</td>\n",
       "      <td>6798.734385</td>\n",
       "    </tr>\n",
       "    <tr>\n",
       "      <th>4</th>\n",
       "      <td>2020-03-05</td>\n",
       "      <td>8496.0</td>\n",
       "      <td>8461.175145</td>\n",
       "      <td>8468.175145</td>\n",
       "    </tr>\n",
       "    <tr>\n",
       "      <th>5</th>\n",
       "      <td>2020-03-06</td>\n",
       "      <td>10231.0</td>\n",
       "      <td>10124.887315</td>\n",
       "      <td>10133.887315</td>\n",
       "    </tr>\n",
       "    <tr>\n",
       "      <th>6</th>\n",
       "      <td>2020-03-07</td>\n",
       "      <td>11824.0</td>\n",
       "      <td>11783.506117</td>\n",
       "      <td>11799.506117</td>\n",
       "    </tr>\n",
       "    <tr>\n",
       "      <th>7</th>\n",
       "      <td>2020-03-08</td>\n",
       "      <td>13418.0</td>\n",
       "      <td>13418.840953</td>\n",
       "      <td>13437.840953</td>\n",
       "    </tr>\n",
       "    <tr>\n",
       "      <th>8</th>\n",
       "      <td>2020-03-09</td>\n",
       "      <td>15136.0</td>\n",
       "      <td>15071.820670</td>\n",
       "      <td>15096.820670</td>\n",
       "    </tr>\n",
       "    <tr>\n",
       "      <th>9</th>\n",
       "      <td>2020-03-10</td>\n",
       "      <td>16840.0</td>\n",
       "      <td>16739.534771</td>\n",
       "      <td>16772.534771</td>\n",
       "    </tr>\n",
       "    <tr>\n",
       "      <th>10</th>\n",
       "      <td>2020-03-11</td>\n",
       "      <td>18602.0</td>\n",
       "      <td>18343.763683</td>\n",
       "      <td>18391.763683</td>\n",
       "    </tr>\n",
       "    <tr>\n",
       "      <th>11</th>\n",
       "      <td>2020-03-12</td>\n",
       "      <td>20276.0</td>\n",
       "      <td>19934.895364</td>\n",
       "      <td>19995.895364</td>\n",
       "    </tr>\n",
       "    <tr>\n",
       "      <th>12</th>\n",
       "      <td>2020-03-13</td>\n",
       "      <td>21918.0</td>\n",
       "      <td>21531.666130</td>\n",
       "      <td>21610.666130</td>\n",
       "    </tr>\n",
       "    <tr>\n",
       "      <th>13</th>\n",
       "      <td>2020-03-14</td>\n",
       "      <td>23548.0</td>\n",
       "      <td>23108.972956</td>\n",
       "      <td>23199.972956</td>\n",
       "    </tr>\n",
       "    <tr>\n",
       "      <th>14</th>\n",
       "      <td>2020-03-15</td>\n",
       "      <td>25249.0</td>\n",
       "      <td>24683.915003</td>\n",
       "      <td>24810.915003</td>\n",
       "    </tr>\n",
       "    <tr>\n",
       "      <th>15</th>\n",
       "      <td>2020-03-16</td>\n",
       "      <td>27067.0</td>\n",
       "      <td>26278.139086</td>\n",
       "      <td>26426.139086</td>\n",
       "    </tr>\n",
       "    <tr>\n",
       "      <th>16</th>\n",
       "      <td>2020-03-17</td>\n",
       "      <td>28915.0</td>\n",
       "      <td>27843.803928</td>\n",
       "      <td>28018.803928</td>\n",
       "    </tr>\n",
       "    <tr>\n",
       "      <th>17</th>\n",
       "      <td>2020-03-18</td>\n",
       "      <td>30708.0</td>\n",
       "      <td>29410.196394</td>\n",
       "      <td>29674.196394</td>\n",
       "    </tr>\n",
       "    <tr>\n",
       "      <th>18</th>\n",
       "      <td>2020-03-19</td>\n",
       "      <td>32598.0</td>\n",
       "      <td>30956.943014</td>\n",
       "      <td>31328.943014</td>\n",
       "    </tr>\n",
       "    <tr>\n",
       "      <th>19</th>\n",
       "      <td>2020-03-20</td>\n",
       "      <td>34411.0</td>\n",
       "      <td>32470.946555</td>\n",
       "      <td>32920.946555</td>\n",
       "    </tr>\n",
       "    <tr>\n",
       "      <th>20</th>\n",
       "      <td>2020-03-21</td>\n",
       "      <td>36106.0</td>\n",
       "      <td>34034.792337</td>\n",
       "      <td>34596.792337</td>\n",
       "    </tr>\n",
       "    <tr>\n",
       "      <th>21</th>\n",
       "      <td>2020-03-22</td>\n",
       "      <td>37827.0</td>\n",
       "      <td>35590.452350</td>\n",
       "      <td>36264.452350</td>\n",
       "    </tr>\n",
       "    <tr>\n",
       "      <th>22</th>\n",
       "      <td>2020-03-23</td>\n",
       "      <td>39707.0</td>\n",
       "      <td>37142.292337</td>\n",
       "      <td>38002.292337</td>\n",
       "    </tr>\n",
       "  </tbody>\n",
       "</table>\n",
       "</div>"
      ],
      "text/plain": [
       "          date     2020  counterfactual_2020  counterfactual_2020_covid\n",
       "0   2020-03-01   1695.0          1695.000000                1695.000000\n",
       "1   2020-03-02   3413.0          3415.648744                3418.648744\n",
       "2   2020-03-03   5101.0          5113.741146                5117.741146\n",
       "3   2020-03-04   6801.0          6794.734385                6798.734385\n",
       "4   2020-03-05   8496.0          8461.175145                8468.175145\n",
       "5   2020-03-06  10231.0         10124.887315               10133.887315\n",
       "6   2020-03-07  11824.0         11783.506117               11799.506117\n",
       "7   2020-03-08  13418.0         13418.840953               13437.840953\n",
       "8   2020-03-09  15136.0         15071.820670               15096.820670\n",
       "9   2020-03-10  16840.0         16739.534771               16772.534771\n",
       "10  2020-03-11  18602.0         18343.763683               18391.763683\n",
       "11  2020-03-12  20276.0         19934.895364               19995.895364\n",
       "12  2020-03-13  21918.0         21531.666130               21610.666130\n",
       "13  2020-03-14  23548.0         23108.972956               23199.972956\n",
       "14  2020-03-15  25249.0         24683.915003               24810.915003\n",
       "15  2020-03-16  27067.0         26278.139086               26426.139086\n",
       "16  2020-03-17  28915.0         27843.803928               28018.803928\n",
       "17  2020-03-18  30708.0         29410.196394               29674.196394\n",
       "18  2020-03-19  32598.0         30956.943014               31328.943014\n",
       "19  2020-03-20  34411.0         32470.946555               32920.946555\n",
       "20  2020-03-21  36106.0         34034.792337               34596.792337\n",
       "21  2020-03-22  37827.0         35590.452350               36264.452350\n",
       "22  2020-03-23  39707.0         37142.292337               38002.292337"
      ]
     },
     "execution_count": 14,
     "metadata": {},
     "output_type": "execute_result"
    }
   ],
   "source": [
    "df = pd.merge(df, official, on=['date'], how='left')\n",
    "df = df.fillna(0)\n",
    "df['counterfactual_2020_covid'] = df.counterfactual_2020 + df.covid_19\n",
    "del df['covid_19']\n",
    "df"
   ]
  },
  {
   "cell_type": "code",
   "execution_count": 15,
   "metadata": {},
   "outputs": [],
   "source": [
    "df.index=df.date\n",
    "del df['date']"
   ]
  },
  {
   "cell_type": "code",
   "execution_count": 16,
   "metadata": {},
   "outputs": [
    {
     "data": {
      "image/png": "[encoded data removed]",
      "text/plain": [
       "<Figure size 720x432 with 1 Axes>"
      ]
     },
     "metadata": {
      "needs_background": "light"
     },
     "output_type": "display_data"
    }
   ],
   "source": [
    "df.plot(figsize=(10,6))\n",
    "plt.show()"
   ]
  },
  {
   "cell_type": "code",
   "execution_count": 17,
   "metadata": {},
   "outputs": [
    {
     "name": "stdout",
     "output_type": "stream",
     "text": [
      "Official covid-deaths: 860.0 = red-green\n",
      "Excess deaths: 2565.0 = blue-green\n",
      "Unexplained excess deaths: 1705.0 = blue-red\n"
     ]
    }
   ],
   "source": [
    "print('Official covid-deaths: {} = red-green'.format(round(df.iloc[-1, 2] - df.iloc[-1, 1])))\n",
    "print('Excess deaths: {} = blue-green'.format(round(df.iloc[-1, 0] - df.iloc[-1, 1])))\n",
    "print('Unexplained excess deaths: {} = blue-red'.format(round(df.iloc[-1, 0] - df.iloc[-1, 2])))"
   ]
  }
 ],
 "metadata": {
  "kernelspec": {
   "display_name": "Python 3",
   "language": "python",
   "name": "python3"
  },
  "language_info": {
   "codemirror_mode": {
    "name": "ipython",
    "version": 3
   },
   "file_extension": ".py",
   "mimetype": "text/x-python",
   "name": "python",
   "nbconvert_exporter": "python",
   "pygments_lexer": "ipython3",
   "version": "3.6.9"
  }
 },
 "nbformat": 4,
 "nbformat_minor": 4
}
